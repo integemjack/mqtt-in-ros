{
 "cells": [
  {
   "cell_type": "markdown",
   "id": "74299649-77c2-4669-bce1-deae40406fca",
   "metadata": {},
   "source": [
    "add a data directory for the course with the following command in the jetson Nano terminal you're logged into:"
   ]
  },
  {
   "cell_type": "code",
   "execution_count": null,
   "id": "d6816422-9b15-4eec-8cd5-280b80a17f99",
   "metadata": {},
   "outputs": [],
   "source": [
    "!mkdir -p ~/nvdli-data"
   ]
  },
  {
   "cell_type": "markdown",
   "id": "15cfe97a-ea97-4036-8bb5-232955280444",
   "metadata": {},
   "source": [
    " Run the Docker container with the following command, where <tag> is a combination of thecourse version and Jetson Nano JetPack L4T operating system version (form is <tag> =<course_version>-<L4T_version>) A list of tags can be found in the course NVIDIA NGCcloud page."
   ]
  },
  {
   "cell_type": "markdown",
   "id": "64c56930-c5fd-4299-9b60-5e2ec1189086",
   "metadata": {},
   "source": [
    "dli-nano-ai version: https://catalog.ngc.nvidia.com/orgs/nvidia/teams/dli/containers/dli-nano-ai"
   ]
  },
  {
   "cell_type": "code",
   "execution_count": null,
   "id": "070e7608-f51d-4bf8-a447-98737aac3613",
   "metadata": {
    "tags": []
   },
   "outputs": [],
   "source": [
    "!sudo docker run --runtime nvidia -it --rm --network host --volume ~/nvdli-data:/nvdli-nano/data --device=/dev/video0 integem/notebook:dli-nano-ai"
   ]
  },
  {
   "cell_type": "markdown",
   "id": "7f9fa25b-adfc-438b-9599-c9d2222b3810",
   "metadata": {},
   "source": [
    "Tip:To create and run a reusable script for this step try the following [example tag shown):"
   ]
  },
  {
   "cell_type": "markdown",
   "id": "4740f577-ebd8-4130-8b19-3f935877cc9d",
   "metadata": {},
   "source": [
    "!echo \"sudo docker run --runtime nvidia -it --rm --network host \\\n",
    "    --volume */nvdli-data:/nvdli-nano/data \\\n",
    "    --device /dev/video0 \\\n",
    "    nvcr.io/nvidia/dli-nano-ai:v2.0.2-r32.7.1\"> docker_dli_run.sh\n",
    "!chmod +x docker_dli_run.sh\n",
    "!./docker_dli_run.sh"
   ]
  },
  {
   "cell_type": "markdown",
   "id": "e6e0bef9-889f-40a1-a5e5-14ccb025e384",
   "metadata": {},
   "source": [
    "# Logging Into The JupyterLab Server\n",
    "1. Open the following link address : [user ip]:8888\n",
    "\n",
    "    The JupyterLab server running on the Jetson Nano will open up with a login prompt the firsttime.\n",
    "    \n",
    "2. Enter the password: dlinano"
   ]
  }
 ],
 "metadata": {
  "kernelspec": {
   "display_name": "Python 3",
   "language": "python",
   "name": "python3"
  },
  "language_info": {
   "codemirror_mode": {
    "name": "ipython",
    "version": 3
   },
   "file_extension": ".py",
   "mimetype": "text/x-python",
   "name": "python",
   "nbconvert_exporter": "python",
   "pygments_lexer": "ipython3",
   "version": "3.6.9"
  }
 },
 "nbformat": 4,
 "nbformat_minor": 5
}
