{
 "cells": [
  {
   "cell_type": "code",
   "execution_count": null,
   "id": "603a0560-6b29-4546-aece-3e8674c4644a",
   "metadata": {},
   "outputs": [
    {
     "name": "stdout",
     "output_type": "stream",
     "text": [
      "--2023-07-03 10:15:40--  https://ghproxy.com/https://raw.githubusercontent.com/integemjack/tf-online/main/take-photo.ipynb\n",
      "Resolving ghproxy.com (ghproxy.com)... 129.146.41.82\n",
      "Connecting to ghproxy.com (ghproxy.com)|129.146.41.82|:443... connected.\n",
      "HTTP request sent, awaiting response... 200 OK\n",
      "Length: 8659 (8.5K) [text/plain]\n",
      "Saving to: 'take-photo.ipynb'\n",
      "\n",
      "take-photo.ipynb    100%[===================>]   8.46K  --.-KB/s    in 0.001s  \n",
      "\n",
      "2023-07-03 10:15:41 (7.18 MB/s) - 'take-photo.ipynb' saved [8659/8659]\n",
      "\n",
      "\u001b[32m[I 2023-07-03 10:15:44.903 ServerApp]\u001b(B\u001b[m jupyterlab | extension was successfully linked.\n",
      "\u001b[33m[W 2023-07-03 10:15:44.918 NotebookApp]\u001b(B\u001b[m 'password' has moved from NotebookApp to ServerApp. This config will be passed to ServerApp. Be sure to update your config before our next release.\n",
      "\u001b[32m[I 2023-07-03 10:15:44.972 ServerApp]\u001b(B\u001b[m Writing Jupyter server cookie secret to /root/.local/share/jupyter/runtime/jupyter_cookie_secret\n",
      "\u001b[32m[I 2023-07-03 10:15:45.921 ServerApp]\u001b(B\u001b[m nbclassic | extension was successfully linked.\n",
      "\u001b[32m[I 2023-07-03 10:15:46.014 ServerApp]\u001b(B\u001b[m nbclassic | extension was successfully loaded.\n",
      "\u001b[32m[I 2023-07-03 10:15:46.019 LabApp]\u001b(B\u001b[m JupyterLab extension loaded from /usr/local/lib/python3.6/dist-packages/jupyterlab\n",
      "\u001b[32m[I 2023-07-03 10:15:46.019 LabApp]\u001b(B\u001b[m JupyterLab application directory is /usr/local/share/jupyter/lab\n",
      "\u001b[32m[I 2023-07-03 10:15:46.035 ServerApp]\u001b(B\u001b[m jupyterlab | extension was successfully loaded.\n",
      "\u001b[32m[I 2023-07-03 10:15:46.036 ServerApp]\u001b(B\u001b[m The port 8888 is already in use, trying another port.\n",
      "\u001b[32m[I 2023-07-03 10:15:46.037 ServerApp]\u001b(B\u001b[m The port 8889 is already in use, trying another port.\n",
      "\u001b[32m[I 2023-07-03 10:15:46.037 ServerApp]\u001b(B\u001b[m The port 8890 is already in use, trying another port.\n",
      "\u001b[32m[I 2023-07-03 10:15:46.038 ServerApp]\u001b(B\u001b[m The port 8891 is already in use, trying another port.\n",
      "\u001b[32m[I 2023-07-03 10:15:46.038 ServerApp]\u001b(B\u001b[m The port 8892 is already in use, trying another port.\n",
      "\u001b[32m[I 2023-07-03 10:15:46.040 ServerApp]\u001b(B\u001b[m Serving notebooks from local directory: /root\n",
      "\u001b[32m[I 2023-07-03 10:15:46.040 ServerApp]\u001b(B\u001b[m Jupyter Server 1.13.1 is running at:\n",
      "\u001b[32m[I 2023-07-03 10:15:46.040 ServerApp]\u001b(B\u001b[m http://nvidia-desktop:8949/lab\n",
      "\u001b[32m[I 2023-07-03 10:15:46.040 ServerApp]\u001b(B\u001b[m  or http://127.0.0.1:8949/lab\n",
      "\u001b[32m[I 2023-07-03 10:15:46.040 ServerApp]\u001b(B\u001b[m Use Control-C to stop this server and shut down all kernels (twice to skip confirmation).\n",
      "\u001b[33m[W 2023-07-03 10:15:46.058 ServerApp]\u001b(B\u001b[m No web browser found: could not locate runnable browser.\n"
     ]
    }
   ],
   "source": [
    "!sudo docker run -w /root/ --runtime nvidia -it --rm --network host --volume /home/nvidia/jetson-inference/python/training/detection/ssd:/root/ssd --device=/dev/video0 nvcr.io/nvidia/dli/dli-nano-ai:v2.0.2-r32.7.1 bash -c \"cd /root && wget https://raw.githubusercontent.com/integemjack/tf-online/main/take-photo-full.ipynb && echo \\\"c.ServerApp.ip = '0.0.0.0'\\\" >> /root/.jupyter/jupyter_lab_config.py && jupyter lab --allow-root --port=9888\""
   ]
  },
  {
   "attachments": {},
   "cell_type": "markdown",
   "id": "0613b3bf",
   "metadata": {},
   "source": [
    "# Click the above link directly, not the one of 127.0.0.1, the password is: dlinano"
   ]
  }
 ],
 "metadata": {
  "kernelspec": {
   "display_name": "Python 3",
   "language": "python",
   "name": "python3"
  },
  "language_info": {
   "codemirror_mode": {
    "name": "ipython",
    "version": 3
   },
   "file_extension": ".py",
   "mimetype": "text/x-python",
   "name": "python",
   "nbconvert_exporter": "python",
   "pygments_lexer": "ipython3",
   "version": "3.6.9"
  }
 },
 "nbformat": 4,
 "nbformat_minor": 5
}
